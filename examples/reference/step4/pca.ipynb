{
 "cells": [
  {
   "cell_type": "code",
   "execution_count": 1,
   "metadata": {
    "collapsed": true
   },
   "outputs": [],
   "source": [
    "# import pickle\n",
    "# import seaborn as sns\n",
    "# # from sklearn.decomposition import PCA\n",
    "# import numpy as np\n",
    "# # from scipy.stats import kstest\n",
    "# import random\n",
    "import dill\n",
    "import pickle\n",
    "# from train import PCAMonitoring"
   ]
  },
  {
   "cell_type": "code",
   "execution_count": 2,
   "outputs": [],
   "source": [
    "with open(\"../data/fashion-mnist/train.pickle\", \"rb\") as f:\n",
    "    X, y = pickle.load(f)"
   ],
   "metadata": {
    "collapsed": false,
    "pycharm": {
     "name": "#%%\n"
    }
   }
  },
  {
   "cell_type": "code",
   "execution_count": 22,
   "outputs": [],
   "source": [
    "pca = PCA()\n",
    "X_pca = pca.fit_transform(X)"
   ],
   "metadata": {
    "collapsed": false,
    "pycharm": {
     "name": "#%%\n"
    }
   }
  },
  {
   "cell_type": "code",
   "execution_count": 24,
   "outputs": [],
   "source": [
    "monitoring = PCAMonitoring(X)"
   ],
   "metadata": {
    "collapsed": false,
    "pycharm": {
     "name": "#%%\n"
    }
   }
  },
  {
   "cell_type": "code",
   "execution_count": 25,
   "outputs": [],
   "source": [
    "with open(\"monitoring.dill\", \"wb\") as f:\n",
    "    dill.dump(monitoring, f)"
   ],
   "metadata": {
    "collapsed": false,
    "pycharm": {
     "name": "#%%\n"
    }
   }
  },
  {
   "cell_type": "code",
   "execution_count": 3,
   "outputs": [],
   "source": [
    "with open(\"monitoring.dill\", \"rb\") as f:\n",
    "    monitoring1 = dill.load(f)\n"
   ],
   "metadata": {
    "collapsed": false,
    "pycharm": {
     "name": "#%%\n"
    }
   }
  },
  {
   "cell_type": "code",
   "execution_count": 4,
   "outputs": [
    {
     "name": "stdout",
     "output_type": "stream",
     "text": [
      "{'severity': 'WARNING', 'kstest': [(0.09055000000000002, 0.36333657177202766), (0.1411, 0.03363781106757089), (0.11533333333333334, 0.1291811499408007), (0.07856666666666667, 0.5413545135735524), (0.09121666666666672, 0.3546180757534074)], 'drifted_pcs': [1]}\n"
     ]
    }
   ],
   "source": [
    "monitoring1.add_data(X[:100])"
   ],
   "metadata": {
    "collapsed": false,
    "pycharm": {
     "name": "#%%\n"
    }
   }
  },
  {
   "cell_type": "code",
   "execution_count": 4,
   "outputs": [
    {
     "data": {
      "text/plain": "array([0.29039228, 0.46794538, 0.5281376 , 0.57771188, 0.61618843,\n       0.65079612, 0.67421303, 0.69326717, 0.7067656 , 0.71990827,\n       0.72983702, 0.73896957, 0.7466275 , 0.75322455, 0.75930306,\n       0.76520127, 0.77072062, 0.77596562, 0.7805464 , 0.78510155,\n       0.78943839, 0.79350936, 0.79735694, 0.80108246, 0.80469352,\n       0.80820008, 0.8115325 , 0.81472609, 0.81780672, 0.82073945,\n       0.82349548, 0.8261461 , 0.82878313, 0.83134148, 0.83380361,\n       0.83616262, 0.83846552, 0.84072074, 0.8429055 , 0.84499874,\n       0.84700157, 0.84895896, 0.85090586, 0.85273369, 0.85448723,\n       0.85620649, 0.85789441, 0.85953416, 0.86114324, 0.8626917 ,\n       0.86421465, 0.8657151 , 0.86718305, 0.86861617, 0.86999894,\n       0.87136891, 0.87268046, 0.87396892, 0.87524141, 0.87649992,\n       0.87771445, 0.87891643, 0.88009786, 0.88126044, 0.88241627,\n       0.88353922, 0.88464997, 0.88574666, 0.88679794, 0.88784453,\n       0.88887554, 0.88988605, 0.890864  , 0.89182089, 0.89276004,\n       0.89369387, 0.89461917, 0.89552173, 0.89641498, 0.8972868 ,\n       0.89814088, 0.89898378, 0.89980892, 0.90062313, 0.90142826,\n       0.90222577, 0.90300219, 0.90377166, 0.90453547, 0.90528757,\n       0.90603612, 0.90677642, 0.90750676, 0.90822643, 0.90894075,\n       0.90964351, 0.91034073, 0.91101892, 0.91168752, 0.91234876,\n       0.91299853, 0.91363961, 0.91427818, 0.91490857, 0.91553085,\n       0.91614978, 0.91675492, 0.91734975, 0.91794045, 0.91852763,\n       0.91910568, 0.91967817, 0.92023923, 0.92079405, 0.92134764,\n       0.92189248, 0.92242968, 0.92296515, 0.92349685, 0.92401938,\n       0.92453092, 0.92503698, 0.92553514, 0.92602882, 0.92652001,\n       0.92700806, 0.92748997, 0.92796843, 0.92844269, 0.92891104,\n       0.92937607, 0.92983997, 0.93029688, 0.9307516 , 0.93120229,\n       0.93165001, 0.93209151, 0.93252734, 0.93296016, 0.93338999,\n       0.93381889, 0.93424247, 0.93466591, 0.93508212, 0.93549697,\n       0.93590342, 0.93630595, 0.93670193, 0.93709668, 0.93748771,\n       0.93787767, 0.93826451, 0.93864638, 0.93902521, 0.93939964,\n       0.93977232, 0.94014283, 0.94051143, 0.94087946, 0.94124336,\n       0.94160404, 0.94196188, 0.94231422, 0.942665  , 0.94301352,\n       0.94335807, 0.94369759, 0.94403369, 0.9443692 , 0.94470029,\n       0.94503075, 0.94535793, 0.94568259, 0.94600556, 0.94632506,\n       0.94664403, 0.94696122, 0.94727387, 0.9475844 , 0.94789365,\n       0.94820067, 0.94850708, 0.94881124, 0.9491129 , 0.94941233,\n       0.949709  , 0.95000391, 0.95029822, 0.95058912, 0.95087882,\n       0.95116687, 0.95145398, 0.95173636, 0.95201544, 0.95229324,\n       0.95256874, 0.95284293, 0.95311604, 0.95338637, 0.95365469,\n       0.95392134, 0.95418764, 0.95445181, 0.95471491, 0.95497438,\n       0.95523353, 0.95549042, 0.95574609, 0.95600136, 0.95625514,\n       0.95650692, 0.95675787, 0.95700669, 0.95725212, 0.95749651,\n       0.95773931, 0.95798163, 0.95822313, 0.95846352, 0.95870042,\n       0.95893639, 0.95916958, 0.9594019 , 0.95963327, 0.95986137,\n       0.96008797, 0.96031374, 0.96053922, 0.96076285, 0.96098382,\n       0.96120421, 0.96142322, 0.96164113, 0.96185738, 0.96207243,\n       0.96228548, 0.9624974 , 0.96270831, 0.96291754, 0.9631261 ,\n       0.96333306, 0.96353892, 0.96374417, 0.96394757, 0.96415085,\n       0.96435231, 0.96455224, 0.96475131, 0.96494867, 0.96514512,\n       0.96534049, 0.96553426, 0.96572741, 0.96591811, 0.96610876,\n       0.96629796, 0.96648602, 0.96667383, 0.96686028, 0.96704513,\n       0.96722879, 0.96741089, 0.96759136, 0.96777143, 0.96795066,\n       0.9681286 , 0.96830594, 0.96848266, 0.96865781, 0.96883165,\n       0.96900472, 0.96917698, 0.96934852, 0.96951973, 0.96969012,\n       0.96985923, 0.97002725, 0.97019395, 0.97036   , 0.97052527,\n       0.97068889, 0.97085157, 0.9710141 , 0.97117518, 0.97133545,\n       0.97149469, 0.97165379, 0.97181215, 0.97197021, 0.97212711,\n       0.97228294, 0.97243716, 0.97259073, 0.97274372, 0.9728962 ,\n       0.9730479 , 0.97319837, 0.9733481 , 0.97349704, 0.97364566,\n       0.9737933 , 0.97394081, 0.97408713, 0.97423315, 0.9743777 ,\n       0.97452207, 0.97466609, 0.97480971, 0.97495224, 0.97509355,\n       0.97523474, 0.97537464, 0.9755143 , 0.97565309, 0.97579125,\n       0.97592828, 0.97606501, 0.97620093, 0.97633594, 0.97647024,\n       0.97660395, 0.9767373 , 0.97686999, 0.97700226, 0.97713348,\n       0.97726388, 0.97739386, 0.97752286, 0.97765122, 0.97777893,\n       0.97790619, 0.97803324, 0.9781593 , 0.97828431, 0.97840882,\n       0.97853277, 0.97865633, 0.97877879, 0.97890032, 0.97902129,\n       0.97914197, 0.97926242, 0.97938215, 0.97950091, 0.97961895,\n       0.97973662, 0.97985364, 0.97997034, 0.98008654, 0.9802023 ,\n       0.98031749, 0.98043216, 0.98054615, 0.98065931, 0.98077212,\n       0.98088474, 0.98099679, 0.98110838, 0.98121927, 0.98132925,\n       0.98143906, 0.98154824, 0.98165699, 0.98176498, 0.98187235,\n       0.98197939, 0.9820859 , 0.98219226, 0.98229827, 0.9824035 ,\n       0.9825085 , 0.98261316, 0.98271635, 0.98281939, 0.982922  ,\n       0.9830242 , 0.98312567, 0.98322656, 0.98332679, 0.98342683,\n       0.98352649, 0.98362559, 0.9837246 , 0.98382318, 0.98392118,\n       0.98401889, 0.98411621, 0.98421323, 0.98430932, 0.98440529,\n       0.98450041, 0.98459518, 0.98468927, 0.98478306, 0.98487671,\n       0.98496926, 0.98506128, 0.98515299, 0.98524451, 0.98533524,\n       0.98542562, 0.98551546, 0.98560514, 0.98569445, 0.98578356,\n       0.98587228, 0.98596047, 0.98604822, 0.9861355 , 0.98622254,\n       0.98630942, 0.98639563, 0.98648154, 0.986567  , 0.98665224,\n       0.98673694, 0.98682124, 0.9869052 , 0.9869887 , 0.98707204,\n       0.98715517, 0.98723758, 0.98731952, 0.98740111, 0.98748204,\n       0.98756281, 0.98764326, 0.98772349, 0.98780324, 0.98788249,\n       0.98796143, 0.98804014, 0.9881185 , 0.98819642, 0.98827402,\n       0.98835117, 0.98842801, 0.98850466, 0.98858117, 0.98865727,\n       0.988733  , 0.98880815, 0.988883  , 0.98895755, 0.98903193,\n       0.98910576, 0.98917936, 0.9892526 , 0.98932535, 0.9893977 ,\n       0.98946993, 0.98954173, 0.98961312, 0.98968441, 0.98975516,\n       0.98982544, 0.98989558, 0.98996529, 0.99003478, 0.990104  ,\n       0.99017307, 0.99024132, 0.99030924, 0.99037711, 0.9904444 ,\n       0.99051149, 0.99057816, 0.99064462, 0.99071089, 0.99077685,\n       0.99084245, 0.99090748, 0.99097247, 0.99103681, 0.99110094,\n       0.99116472, 0.99122826, 0.99129134, 0.99135424, 0.99141706,\n       0.99147949, 0.99154169, 0.99160342, 0.99166482, 0.99172604,\n       0.99178706, 0.99184786, 0.99190842, 0.99196885, 0.99202887,\n       0.99208851, 0.9921475 , 0.99220624, 0.9922646 , 0.9923228 ,\n       0.99238089, 0.9924386 , 0.99249618, 0.99255367, 0.99261072,\n       0.99266752, 0.99272413, 0.99278057, 0.99283659, 0.99289233,\n       0.99294784, 0.99300283, 0.99305763, 0.99311229, 0.99316649,\n       0.9932202 , 0.99327381, 0.9933272 , 0.9933804 , 0.99343339,\n       0.99348627, 0.99353856, 0.99359064, 0.99364222, 0.99369375,\n       0.99374474, 0.99379562, 0.99384624, 0.99389671, 0.99394702,\n       0.99399706, 0.99404688, 0.99409643, 0.99414579, 0.99419476,\n       0.99424361, 0.99429208, 0.99434028, 0.99438822, 0.99443593,\n       0.99448349, 0.99453093, 0.99457805, 0.99462483, 0.99467156,\n       0.99471805, 0.99476436, 0.99481054, 0.99485622, 0.99490176,\n       0.99494722, 0.99499243, 0.99503721, 0.99508176, 0.99512614,\n       0.99517028, 0.99521411, 0.9952579 , 0.99530128, 0.99534441,\n       0.99538734, 0.99543017, 0.99547258, 0.99551462, 0.99555663,\n       0.99559833, 0.99563986, 0.99568083, 0.99572164, 0.99576222,\n       0.99580277, 0.99584291, 0.99588278, 0.99592249, 0.99596216,\n       0.9960014 , 0.99604055, 0.99607942, 0.99611826, 0.99615699,\n       0.99619538, 0.99623346, 0.99627149, 0.99630924, 0.99634671,\n       0.99638398, 0.99642099, 0.99645781, 0.9964944 , 0.99653073,\n       0.99656697, 0.99660293, 0.9966387 , 0.99667418, 0.99670951,\n       0.99674474, 0.99677982, 0.99681473, 0.99684949, 0.99688394,\n       0.99691832, 0.99695239, 0.9969864 , 0.99702025, 0.99705391,\n       0.99708726, 0.99712041, 0.99715345, 0.99718638, 0.99721909,\n       0.99725138, 0.99728357, 0.99731528, 0.99734694, 0.99737842,\n       0.99740983, 0.99744105, 0.9974719 , 0.99750256, 0.99753308,\n       0.99756353, 0.99759375, 0.9976238 , 0.99765372, 0.99768334,\n       0.99771276, 0.99774204, 0.99777124, 0.99780022, 0.99782905,\n       0.99785764, 0.997886  , 0.99791419, 0.99794231, 0.99797023,\n       0.9979979 , 0.99802542, 0.99805258, 0.9980797 , 0.99810674,\n       0.99813366, 0.99816029, 0.99818667, 0.99821293, 0.99823913,\n       0.99826517, 0.9982911 , 0.99831673, 0.99834215, 0.99836744,\n       0.9983926 , 0.99841753, 0.99844236, 0.99846693, 0.99849125,\n       0.99851556, 0.99853932, 0.99856288, 0.99858625, 0.99860955,\n       0.99863251, 0.99865528, 0.99867789, 0.99870039, 0.99872282,\n       0.99874501, 0.99876711, 0.99878898, 0.99881068, 0.99883219,\n       0.99885342, 0.99887454, 0.9988954 , 0.99891601, 0.99893648,\n       0.99895677, 0.99897664, 0.99899645, 0.99901607, 0.9990355 ,\n       0.99905487, 0.999074  , 0.99909283, 0.99911156, 0.99913003,\n       0.99914831, 0.99916651, 0.99918456, 0.99920248, 0.99922006,\n       0.9992373 , 0.99925441, 0.99927132, 0.99928808, 0.99930467,\n       0.99932116, 0.9993373 , 0.9993534 , 0.9993694 , 0.99938519,\n       0.99940081, 0.9994161 , 0.99943129, 0.99944613, 0.99946086,\n       0.99947547, 0.99948985, 0.999504  , 0.99951802, 0.99953201,\n       0.99954585, 0.99955943, 0.99957292, 0.9995863 , 0.99959912,\n       0.99961178, 0.99962434, 0.99963683, 0.99964918, 0.99966122,\n       0.99967296, 0.99968445, 0.99969572, 0.9997067 , 0.9997176 ,\n       0.99972822, 0.99973861, 0.99974885, 0.99975892, 0.99976869,\n       0.99977816, 0.9997875 , 0.99979666, 0.99980575, 0.99981453,\n       0.99982321, 0.99983186, 0.99984041, 0.99984837, 0.99985624,\n       0.99986385, 0.99987134, 0.99987862, 0.99988563, 0.99989229,\n       0.99989863, 0.99990474, 0.99991063, 0.99991649, 0.99992193,\n       0.99992719, 0.99993219, 0.99993702, 0.99994171, 0.99994619,\n       0.99995039, 0.99995449, 0.99995838, 0.99996184, 0.99996514,\n       0.99996813, 0.99997106, 0.99997391, 0.99997664, 0.99997896,\n       0.9999812 , 0.99998338, 0.99998544, 0.99998748, 0.99998931,\n       0.99999092, 0.99999238, 0.99999359, 0.99999461, 0.99999559,\n       0.99999645, 0.99999728, 0.99999803, 0.99999851, 0.99999895,\n       0.99999925, 0.99999947, 0.99999968, 0.99999979, 0.9999999 ,\n       0.99999997, 0.99999999, 1.        , 1.        ])"
     },
     "execution_count": 4,
     "metadata": {},
     "output_type": "execute_result"
    }
   ],
   "source": [
    "np.cumsum(pca.explained_variance_ratio_)"
   ],
   "metadata": {
    "collapsed": false,
    "pycharm": {
     "name": "#%%\n"
    }
   }
  },
  {
   "cell_type": "code",
   "execution_count": 11,
   "outputs": [],
   "source": [
    "with open(\"../data/fashion-mnist/test.pickle\", \"rb\") as f:\n",
    "    test_X, test_y = pickle.load(f)"
   ],
   "metadata": {
    "collapsed": false,
    "pycharm": {
     "name": "#%%\n"
    }
   }
  },
  {
   "cell_type": "code",
   "execution_count": 6,
   "outputs": [],
   "source": [
    "test_X_pca = pca.transform(test_X)"
   ],
   "metadata": {
    "collapsed": false,
    "pycharm": {
     "name": "#%%\n"
    }
   }
  },
  {
   "cell_type": "code",
   "execution_count": 7,
   "outputs": [
    {
     "data": {
      "text/plain": "<seaborn.axisgrid.FacetGrid at 0x7f205136b670>"
     },
     "execution_count": 7,
     "metadata": {},
     "output_type": "execute_result"
    },
    {
     "data": {
      "text/plain": "<Figure size 360x360 with 1 Axes>",
      "image/png": "[encoded data removed]"
     },
     "metadata": {
      "needs_background": "light"
     },
     "output_type": "display_data"
    }
   ],
   "source": [
    "sns.displot(test_X_pca[:, 0])"
   ],
   "metadata": {
    "collapsed": false,
    "pycharm": {
     "name": "#%%\n"
    }
   }
  },
  {
   "cell_type": "code",
   "execution_count": 8,
   "outputs": [
    {
     "name": "stdout",
     "output_type": "stream",
     "text": [
      "0 KstestResult(statistic=0.0877, pvalue=0.40213041835323465)\n",
      "1 KstestResult(statistic=0.056433333333333335, pvalue=0.8897048526095312)\n",
      "2 KstestResult(statistic=0.08648333333333333, pvalue=0.4194233438398268)\n",
      "3 KstestResult(statistic=0.07341666666666669, pvalue=0.626980189721019)\n",
      "4 KstestResult(statistic=0.08103333333333335, pvalue=0.5017959842511743)\n",
      "5 KstestResult(statistic=0.060450000000000004, pvalue=0.8364945812064387)\n",
      "6 KstestResult(statistic=0.11414999999999999, pvalue=0.1365209003963018)\n",
      "7 KstestResult(statistic=0.06343333333333334, pvalue=0.7918993318300346)\n",
      "8 KstestResult(statistic=0.15183333333333338, pvalue=0.017722835149347794)\n",
      "9 KstestResult(statistic=0.10009999999999997, pvalue=0.2516703465536239)\n"
     ]
    }
   ],
   "source": [
    "for i in range(10):\n",
    "    print(i, kstest(X_pca[:, i], test_X_pca[:100, i]))"
   ],
   "metadata": {
    "collapsed": false,
    "pycharm": {
     "name": "#%%\n"
    }
   }
  },
  {
   "cell_type": "code",
   "execution_count": 9,
   "outputs": [],
   "source": [
    "test_X1 = np.array(test_X) + 100#np.array([[random.randint(120,500) for _ in range(28*28)] for _ in range(100)])"
   ],
   "metadata": {
    "collapsed": false,
    "pycharm": {
     "name": "#%%\n"
    }
   }
  },
  {
   "cell_type": "code",
   "execution_count": 10,
   "outputs": [],
   "source": [
    "test_X1_pca = pca.transform(test_X1)"
   ],
   "metadata": {
    "collapsed": false,
    "pycharm": {
     "name": "#%%\n"
    }
   }
  },
  {
   "cell_type": "code",
   "execution_count": 11,
   "outputs": [
    {
     "data": {
      "text/plain": "[(0.5638333333333333, 1.5926200584508776e-30),\n (0.44833333333333336, 7.42267813217519e-19),\n (0.3233999999999999, 8.273205247995599e-10),\n (0.13811666666666667, 0.03985940830562845),\n (0.15404999999999996, 0.015434568064417361),\n (0.39111666666666667, 2.7212910968851327e-14),\n (0.8222333333333334, 7.219803121151552e-75),\n (0.2483333333333333, 6.422163526398293e-06),\n (0.5073333333333333, 2.2380829987820278e-24),\n (0.4731000000000001, 4.554413516824947e-21)]"
     },
     "execution_count": 11,
     "metadata": {},
     "output_type": "execute_result"
    }
   ],
   "source": [
    "[tuple(kstest(X_pca[:, i], test_X1_pca[:100, i])) for i in range(10)]"
   ],
   "metadata": {
    "collapsed": false,
    "pycharm": {
     "name": "#%%\n"
    }
   }
  },
  {
   "cell_type": "code",
   "execution_count": 7,
   "outputs": [],
   "source": [
    "from train import PCAMonitoring"
   ],
   "metadata": {
    "collapsed": false,
    "pycharm": {
     "name": "#%%\n"
    }
   }
  },
  {
   "cell_type": "code",
   "execution_count": 9,
   "outputs": [],
   "source": [
    "monitoring = PCAMonitoring(X)"
   ],
   "metadata": {
    "collapsed": false,
    "pycharm": {
     "name": "#%%\n"
    }
   }
  },
  {
   "cell_type": "code",
   "execution_count": 12,
   "outputs": [
    {
     "name": "stdout",
     "output_type": "stream",
     "text": [
      "{'severity': 'INFO', 'kstest': [(0.0877, 0.40213041835323465), (0.056433333333333335, 0.8897048526095312), (0.08648333333333333, 0.4194233438398268), (0.07341666666666669, 0.626980189721019), (0.08103333333333335, 0.5017959842511743)], 'drifted_pcs': []}\n"
     ]
    }
   ],
   "source": [
    "\n",
    "monitoring.add_data(test_X[:100])"
   ],
   "metadata": {
    "collapsed": false,
    "pycharm": {
     "name": "#%%\n"
    }
   }
  },
  {
   "cell_type": "code",
   "execution_count": 13,
   "outputs": [],
   "source": [
    "with open(\"monitoring.dill\", \"wb\") as f:\n",
    "    dill.dump(monitoring, f)"
   ],
   "metadata": {
    "collapsed": false,
    "pycharm": {
     "name": "#%%\n"
    }
   }
  },
  {
   "cell_type": "code",
   "execution_count": 1,
   "outputs": [],
   "source": [
    "import json\n",
    "import random"
   ],
   "metadata": {
    "collapsed": false,
    "pycharm": {
     "name": "#%%\n"
    }
   }
  },
  {
   "cell_type": "code",
   "execution_count": 3,
   "outputs": [
    {
     "data": {
      "text/plain": "'{\"instances\": [[141, 151, 83, 117, 233, 172, 176, 191, 108, 35, 89, 169, 231, 39, 2, 63, 149, 165, 203, 68, 87, 243, 157, 204, 198, 23, 167, 27, 104, 169, 112, 82, 163, 87, 155, 129, 202, 203, 244, 168, 46, 223, 182, 5, 129, 81, 168, 159, 30, 30, 229, 85, 157, 22, 142, 123, 42, 223, 192, 174, 242, 242, 195, 213, 153, 41, 208, 252, 218, 88, 226, 118, 216, 9, 53, 253, 69, 47, 149, 5, 51, 220, 188, 172, 108, 148, 95, 121, 131, 117, 23, 88, 219, 12, 19, 91, 202, 191, 162, 76, 17, 106, 245, 217, 214, 125, 170, 5, 112, 45, 129, 174, 184, 169, 208, 236, 77, 229, 74, 143, 204, 73, 163, 28, 68, 86, 163, 210, 186, 237, 164, 207, 14, 233, 21, 235, 29, 41, 88, 91, 71, 175, 42, 146, 143, 165, 43, 96, 245, 224, 50, 228, 10, 5, 206, 17, 199, 111, 226, 49, 245, 149, 216, 168, 26, 213, 244, 156, 62, 178, 28, 40, 208, 205, 234, 187, 18, 196, 142, 108, 114, 40, 2, 80, 143, 33, 63, 36, 118, 208, 145, 157, 209, 84, 33, 143, 241, 104, 51, 207, 253, 105, 216, 177, 206, 249, 109, 199, 49, 95, 24, 89, 173, 82, 115, 166, 182, 152, 195, 171, 174, 133, 61, 194, 41, 47, 126, 123, 217, 14, 59, 49, 4, 24, 148, 251, 25, 184, 136, 28, 196, 2, 239, 73, 158, 190, 141, 87, 44, 165, 40, 192, 20, 222, 46, 133, 197, 65, 88, 78, 230, 232, 117, 251, 108, 234, 100, 129, 232, 140, 229, 60, 151, 54, 19, 66, 139, 98, 21, 49, 172, 225, 105, 18, 190, 126, 205, 38, 171, 184, 195, 242, 155, 69, 116, 195, 104, 158, 52, 30, 30, 218, 215, 11, 25, 65, 251, 115, 163, 15, 237, 225, 211, 247, 57, 58, 12, 242, 24, 103, 109, 101, 65, 12, 113, 205, 65, 124, 235, 35, 144, 101, 178, 157, 63, 34, 209, 220, 231, 227, 203, 103, 147, 7, 129, 63, 125, 171, 74, 213, 46, 175, 213, 166, 33, 187, 159, 148, 196, 224, 184, 82, 191, 177, 45, 126, 225, 215, 29, 253, 71, 9, 169, 73, 159, 138, 113, 254, 149, 134, 97, 110, 220, 207, 5, 25, 163, 134, 52, 189, 173, 122, 241, 159, 225, 104, 108, 191, 63, 216, 111, 183, 166, 25, 213, 25, 213, 156, 169, 112, 0, 87, 22, 152, 22, 9, 38, 23, 169, 253, 71, 110, 64, 96, 176, 41, 71, 80, 151, 3, 112, 194, 57, 117, 70, 178, 43, 182, 106, 19, 102, 174, 70, 31, 207, 224, 29, 42, 33, 225, 201, 53, 114, 224, 136, 222, 33, 80, 230, 59, 233, 35, 188, 122, 49, 104, 76, 248, 134, 140, 91, 96, 157, 181, 6, 226, 226, 207, 54, 172, 158, 171, 129, 113, 37, 136, 253, 65, 20, 115, 254, 12, 170, 72, 211, 139, 76, 88, 150, 211, 133, 51, 101, 52, 59, 116, 29, 209, 10, 116, 165, 168, 72, 149, 72, 118, 35, 99, 150, 225, 189, 85, 158, 64, 56, 178, 103, 188, 48, 7, 214, 145, 93, 255, 205, 191, 63, 215, 243, 128, 208, 25, 174, 145, 64, 105, 91, 234, 100, 175, 25, 54, 213, 110, 99, 223, 84, 187, 11, 176, 46, 104, 189, 118, 199, 138, 202, 51, 68, 253, 193, 250, 66, 101, 163, 149, 218, 161, 6, 44, 1, 74, 67, 193, 48, 137, 65, 194, 42, 66, 93, 54, 19, 7, 114, 241, 145, 23, 180, 11, 253, 162, 216, 85, 73, 129, 199, 242, 74, 126, 67, 245, 152, 195, 145, 192, 10, 146, 31, 47, 202, 205, 219, 102, 10, 59, 233, 148, 231, 75, 251, 173, 122, 197, 51, 58, 209, 19, 18, 60, 243, 146, 137, 33, 233, 138, 157, 174, 146, 76, 23, 179, 53, 254, 111, 74, 164, 160, 30, 71, 252, 159, 39, 230, 42, 97, 132, 232, 254, 159, 58, 55, 176, 121, 28, 208, 183, 250, 195, 212, 1, 253, 119, 6, 250, 19, 46, 50, 253, 209, 115, 38, 24, 175, 4, 237, 3, 83, 156, 176, 215, 203, 197, 177, 30, 55, 55, 111, 100, 238, 210, 82, 169, 160, 149, 16, 36, 254, 148, 14, 54, 233, 130, 72, 200, 213, 173, 140, 157, 203, 211, 241, 165, 34, 218, 241, 114, 62, 225, 114, 92, 199, 178, 143, 10, 32, 184, 86, 54, 83, 172, 70, 221, 9, 116, 238, 196, 71, 117, 232, 147, 94, 89, 91, 80, 162, 210, 56, 183, 248, 103, 6, 150, 69, 112, 208, 44, 140, 169, 197, 217, 217, 117, 230]]}'"
     },
     "execution_count": 3,
     "metadata": {},
     "output_type": "execute_result"
    }
   ],
   "source": [
    "x = [random.randint(0, 255) for _ in range(28*28)]\n",
    "json.dumps({\n",
    "    \"instances\": [x]\n",
    "})"
   ],
   "metadata": {
    "collapsed": false,
    "pycharm": {
     "name": "#%%\n"
    }
   }
  }
 ],
 "metadata": {
  "kernelspec": {
   "display_name": "Python 3",
   "language": "python",
   "name": "python3"
  },
  "language_info": {
   "codemirror_mode": {
    "name": "ipython",
    "version": 2
   },
   "file_extension": ".py",
   "mimetype": "text/x-python",
   "name": "python",
   "nbconvert_exporter": "python",
   "pygments_lexer": "ipython2",
   "version": "2.7.6"
  }
 },
 "nbformat": 4,
 "nbformat_minor": 0
}