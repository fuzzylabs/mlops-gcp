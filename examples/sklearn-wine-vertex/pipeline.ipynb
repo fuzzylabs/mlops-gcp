{
 "cells": [
  {
   "cell_type": "code",
   "execution_count": 73,
   "metadata": {
    "collapsed": true
   },
   "outputs": [],
   "source": [
    "import os\n",
    "from kfp.v2.dsl import component, Dataset, Input\n",
    "import kfp\n",
    "from kfp.v2 import compiler\n",
    "from kfp.v2.google.client import AIPlatformClient\n",
    "from kfp.v2.google.experimental import run_as_aiplatform_custom_job\n",
    "from google.cloud import aiplatform\n",
    "from google_cloud_pipeline_components import aiplatform as gcc_aip\n",
    "from sklearn.linear_model import ElasticNet\n",
    "from typing import Any\n",
    "import time"
   ]
  },
  {
   "cell_type": "code",
   "execution_count": 79,
   "outputs": [],
   "source": [
    "def train(train_x, train_y, alpha = 0.5, l1_ratio = 0.5):\n",
    "    lr = ElasticNet(alpha=alpha, l1_ratio=l1_ratio, random_state=42)\n",
    "    lr.fit(train_x, train_y)\n",
    "\n",
    "    return lr\n",
    "\n",
    "@component(\n",
    "    packages_to_install=[\"sklearn\", \"google-cloud-aiplatform\"],\n",
    "    base_image=\"python:3.9\",\n",
    ")\n",
    "def training_job(dataset: Input[Dataset], alpha: float = 0.5, l1_ratio: float = 0.5):\n",
    "    from google.cloud import aiplatform\n",
    "\n",
    "    print(dataset.path)\n",
    "    print(dataset.uri)\n",
    "    print(dataset.name)\n",
    "    print(dataset.TYPE_NAME)\n",
    "    path = dataset.uri.lstrip(\"aiplatform://v1/\").split(\"/\")\n",
    "    project_id = path[1]\n",
    "    location = path[3]\n",
    "    dataset_id = path[5]\n",
    "    _dataset = aiplatform.datasets.TabularDataset(\n",
    "        dataset_name=dataset_id,\n",
    "        project=project_id,\n",
    "        location=location\n",
    "    )\n",
    "    print(_dataset)\n",
    "    # aiplatform.datasets.TabularDataset()\n",
    "    # # TODO get dataset\n",
    "    # train_uri = os.environ\n",
    "    # train_x, train_y, _, _, test_x, test_y = load_dataset\n",
    "    # # TODO train model\n",
    "    # model = train(train_x, train_y, alpha, l1_ratio)\n",
    "    # # TODO evaluate model\n",
    "    # # TODO output model\n",
    "    pass"
   ],
   "metadata": {
    "collapsed": false,
    "pycharm": {
     "name": "#%%\n"
    }
   }
  },
  {
   "cell_type": "code",
   "execution_count": 80,
   "outputs": [],
   "source": [
    "project_id = \"fuzzylabs\"\n",
    "region = \"europe-west4\"\n",
    "pipeline_root_path = \"gs://wine-quality-model\"\n",
    "\n",
    "@kfp.dsl.pipeline(\n",
    "    name=\"automl-wine-quality\",\n",
    "    pipeline_root=pipeline_root_path)\n",
    "def pipeline(project_id: str):\n",
    "    ds_op = gcc_aip.TabularDatasetCreateOp(\n",
    "        project=project_id,\n",
    "        display_name=\"wine-quality\",\n",
    "        gcs_source=\"gs://wine-quality-model/wine-quality.csv\",\n",
    "    )\n",
    "\n",
    "    training_job = gcc_aip.CustomPythonPackageTrainingJobRunOp(\n",
    "\n",
    "    )\n",
    "\n",
    "    # training_job_instance = training_job(\n",
    "    #     dataset=ds_op.outputs[\"dataset\"]\n",
    "    # )\n",
    "\n",
    "    # dummy_args = [\"--data-dir\", \".\", \"--hptune-dict\", \"{}\"]\n",
    "    # ts = int(time.time())\n",
    "    # WORKING_DIR = f\"{pipeline_root_path}/{ts}\"\n",
    "    #\n",
    "    # run_as_aiplatform_custom_job(\n",
    "    #     training_job_instance,\n",
    "    #     display_name=\"wine-quality-custom-training\",\n",
    "    #     worker_pool_specs=[\n",
    "    #         {\n",
    "    #             \"containerSpec\": {\n",
    "    #                 \"args\": dummy_args,\n",
    "    #                 \"env\": [{\"name\": \"AIP_MODEL_DIR\", \"value\": WORKING_DIR}],\n",
    "    #                 \"imageUri\": \"gcr.io/google-samples/bw-cc-train:latest\",\n",
    "    #\n",
    "    #             },\n",
    "    #             \"replicaCount\": \"1\",\n",
    "    #             \"machineSpec\": {\n",
    "    #                 \"machineType\": \"n1-standard-4\",\n",
    "    #             },\n",
    "    #         }\n",
    "    #     ],\n",
    "    # )\n",
    "\n",
    "    # training_job_run_op = gcc_aip.AutoMLTabularTrainingJobRunOp(\n",
    "    #     project=project_id,\n",
    "    #     display_name=\"wine-quality-automl\",\n",
    "    #     optimization_prediction_type=\"regression\",\n",
    "    #     dataset=ds_op.outputs[\"dataset\"],\n",
    "    #     model_display_name=\"wine-quality-model\",\n",
    "    #     target_column=\"quality\",\n",
    "    #     training_fraction_split=0.6,\n",
    "    #     validation_fraction_split=0.2,\n",
    "    #     test_fraction_split=0.2,\n",
    "    #     budget_milli_node_hours=1000,\n",
    "    # )\n",
    "    #\n",
    "    # endpoint_op = gcc_aip.ModelDeployOp(\n",
    "    #     project=project_id, model=training_job_run_op.outputs[\"model\"]\n",
    "    # )"
   ],
   "metadata": {
    "collapsed": false,
    "pycharm": {
     "name": "#%%\n"
    }
   }
  },
  {
   "cell_type": "code",
   "execution_count": 81,
   "outputs": [
    {
     "data": {
      "text/plain": "<IPython.core.display.HTML object>",
      "text/html": "See the Pipeline job <a href=\"https://console.cloud.google.com/vertex-ai/locations/europe-west4/pipelines/runs/automl-wine-quality-20210527165055?project=fuzzylabs\" target=\"_blank\" >here</a>."
     },
     "metadata": {},
     "output_type": "display_data"
    }
   ],
   "source": [
    "compiler.Compiler().compile(pipeline_func=pipeline,\n",
    "        package_path='wine-quality-pipeline.json')\n",
    "\n",
    "api_client = AIPlatformClient(project_id=project_id, region=region)\n",
    "\n",
    "response = api_client.create_run_from_job_spec(\n",
    "    'wine-quality-pipeline.json',\n",
    "    pipeline_root=pipeline_root_path,\n",
    "    parameter_values={\n",
    "        'project_id': project_id\n",
    "    })"
   ],
   "metadata": {
    "collapsed": false,
    "pycharm": {
     "name": "#%%\n"
    }
   }
  },
  {
   "cell_type": "code",
   "execution_count": null,
   "outputs": [],
   "source": [],
   "metadata": {
    "collapsed": false,
    "pycharm": {
     "name": "#%%\n"
    }
   }
  }
 ],
 "metadata": {
  "kernelspec": {
   "display_name": "Python 3",
   "language": "python",
   "name": "python3"
  },
  "language_info": {
   "codemirror_mode": {
    "name": "ipython",
    "version": 2
   },
   "file_extension": ".py",
   "mimetype": "text/x-python",
   "name": "python",
   "nbconvert_exporter": "python",
   "pygments_lexer": "ipython2",
   "version": "2.7.6"
  }
 },
 "nbformat": 4,
 "nbformat_minor": 0
}