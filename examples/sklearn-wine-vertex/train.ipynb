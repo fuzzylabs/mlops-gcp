{
 "cells": [
  {
   "cell_type": "code",
   "execution_count": 1,
   "outputs": [],
   "source": [
    "from sklearn.model_selection import train_test_split\n",
    "from sklearn.linear_model import ElasticNet\n",
    "from sklearn.metrics import mean_squared_error, mean_absolute_error, r2_score\n",
    "from sklearn.datasets import load_wine\n",
    "from torch.utils.tensorboard import SummaryWriter\n",
    "from google.cloud import storage\n",
    "import numpy as np\n",
    "from io import BytesIO\n",
    "import pandas as pd\n",
    "import os"
   ],
   "metadata": {
    "collapsed": false,
    "pycharm": {
     "name": "#%%\n"
    }
   }
  },
  {
   "cell_type": "markdown",
   "source": [
    "Download dataset from Vertex AI Datasets (with direct Google Cloud Storage link)"
   ],
   "metadata": {
    "collapsed": false,
    "pycharm": {
     "name": "#%% md\n"
    }
   }
  },
  {
   "cell_type": "code",
   "execution_count": 2,
   "metadata": {
    "collapsed": true
   },
   "outputs": [],
   "source": [
    "storage_client = storage.Client()\n",
    "blob = storage_client.bucket(\"wine-quality-model\").blob(\"wine-quality.csv\")\n",
    "data = pd.read_csv(BytesIO(blob.download_as_string()))"
   ]
  },
  {
   "cell_type": "markdown",
   "source": [
    "Split the data"
   ],
   "metadata": {
    "collapsed": false,
    "pycharm": {
     "name": "#%% md\n"
    }
   }
  },
  {
   "cell_type": "code",
   "execution_count": 3,
   "outputs": [],
   "source": [
    "# Split the data into training and test sets. (0.75, 0.25) split.\n",
    "train, test = train_test_split(data)\n",
    "\n",
    "# The predicted column is \"quality\" which is a scalar from [3, 9]\n",
    "train_x = train.drop([\"quality\"], axis=1)\n",
    "test_x = test.drop([\"quality\"], axis=1)\n",
    "train_y = train[[\"quality\"]]\n",
    "test_y = test[[\"quality\"]]"
   ],
   "metadata": {
    "collapsed": false,
    "pycharm": {
     "name": "#%%\n"
    }
   }
  },
  {
   "cell_type": "markdown",
   "source": [
    "Train an elastic net"
   ],
   "metadata": {
    "collapsed": false,
    "pycharm": {
     "name": "#%% md\n"
    }
   }
  },
  {
   "cell_type": "code",
   "execution_count": 4,
   "outputs": [],
   "source": [
    "alpha = 0.5\n",
    "l1_ratio = 0.5\n",
    "\n",
    "lr = ElasticNet(alpha=alpha, l1_ratio=l1_ratio, random_state=42)\n",
    "lr.fit(train_x, train_y)\n",
    "\n",
    "predicted_qualities = lr.predict(test_x)"
   ],
   "metadata": {
    "collapsed": false,
    "pycharm": {
     "name": "#%%\n"
    }
   }
  },
  {
   "cell_type": "markdown",
   "source": [
    "Evaluate model performance"
   ],
   "metadata": {
    "collapsed": false,
    "pycharm": {
     "name": "#%% md\n"
    }
   }
  },
  {
   "cell_type": "code",
   "execution_count": 5,
   "outputs": [
    {
     "name": "stdout",
     "output_type": "stream",
     "text": [
      "Elasticnet model (alpha=0.500000, l1_ratio=0.500000):\n",
      "  RMSE: 0.7911824863420315\n",
      "  MAE: 0.6114337698859303\n",
      "  R2: 0.12989214160333407\n"
     ]
    }
   ],
   "source": [
    "def eval_metrics(actual, pred):\n",
    "    rmse = np.sqrt(mean_squared_error(actual, pred))\n",
    "    mae = mean_absolute_error(actual, pred)\n",
    "    r2 = r2_score(actual, pred)\n",
    "    return rmse, mae, r2\n",
    "\n",
    "(rmse, mae, r2) = eval_metrics(test_y, predicted_qualities)\n",
    "\n",
    "print(\"Elasticnet model (alpha=%f, l1_ratio=%f):\" % (alpha, l1_ratio))\n",
    "print(\"  RMSE: %s\" % rmse)\n",
    "print(\"  MAE: %s\" % mae)\n",
    "print(\"  R2: %s\" % r2)"
   ],
   "metadata": {
    "collapsed": false,
    "pycharm": {
     "name": "#%%\n"
    }
   }
  },
  {
   "cell_type": "markdown",
   "source": [
    "Write to Tensorboard log. You can see the results in local Tensorboard by running `tensorboard --logdir runs/`"
   ],
   "metadata": {
    "collapsed": false,
    "pycharm": {
     "name": "#%% md\n"
    }
   }
  },
  {
   "cell_type": "code",
   "execution_count": 6,
   "outputs": [],
   "source": [
    "writer = SummaryWriter()\n",
    "\n",
    "writer.add_hparams(\n",
    "    {\n",
    "        \"alpha\": alpha,\n",
    "        \"l1_ratio\": l1_ratio\n",
    "    },\n",
    "    {\n",
    "        \"rmse\": rmse,\n",
    "        \"mae\": mae,\n",
    "        \"r2\": r2\n",
    "    }\n",
    ")\n",
    "\n",
    "writer.close()"
   ],
   "metadata": {
    "collapsed": false,
    "pycharm": {
     "name": "#%%\n"
    }
   }
  },
  {
   "cell_type": "markdown",
   "source": [
    "Upload Tensorboard logs to Vertex AI"
   ],
   "metadata": {
    "collapsed": false
   }
  },
  {
   "cell_type": "code",
   "execution_count": 7,
   "outputs": [],
   "source": [
    "log_dir = writer.log_dir\n",
    "run_name = os.path.basename(log_dir)"
   ],
   "metadata": {
    "collapsed": false,
    "pycharm": {
     "name": "#%%\n"
    }
   }
  },
  {
   "cell_type": "code",
   "execution_count": 8,
   "outputs": [
    {
     "data": {
      "text/plain": "('runs/May27_10-43-01_lowl-thinkpad', 'May27_10-43-01_lowl-thinkpad')"
     },
     "execution_count": 8,
     "metadata": {},
     "output_type": "execute_result"
    }
   ],
   "source": [
    "log_dir, run_name"
   ],
   "metadata": {
    "collapsed": false,
    "pycharm": {
     "name": "#%%\n"
    }
   }
  },
  {
   "cell_type": "code",
   "execution_count": 9,
   "outputs": [
    {
     "name": "stdout",
     "output_type": "stream",
     "text": [
      "Traceback (most recent call last):\r\n",
      "  File \"/home/dlowl/git/mlops-gcp/examples/sklearn-wine-vertex/env/lib64/python3.8/site-packages/google/api_core/grpc_helpers.py\", line 67, in error_remapped_callable\r\n",
      "    return callable_(*args, **kwargs)\r\n",
      "  File \"/home/dlowl/git/mlops-gcp/examples/sklearn-wine-vertex/env/lib64/python3.8/site-packages/grpc/_channel.py\", line 923, in __call__\r\n",
      "    return _end_unary_response_blocking(state, call, False, None)\r\n",
      "  File \"/home/dlowl/git/mlops-gcp/examples/sklearn-wine-vertex/env/lib64/python3.8/site-packages/grpc/_channel.py\", line 826, in _end_unary_response_blocking\r\n",
      "    raise _InactiveRpcError(state)\r\n",
      "grpc._channel._InactiveRpcError: <_InactiveRpcError of RPC that terminated with:\r\n",
      "\tstatus = StatusCode.INTERNAL\r\n",
      "\tdetails = \"Internal error encountered.\"\r\n",
      "\tdebug_error_string = \"{\"created\":\"@1622094186.688313931\",\"description\":\"Error received from peer ipv4:74.125.205.95:443\",\"file\":\"src/core/lib/surface/call.cc\",\"file_line\":1062,\"grpc_message\":\"Internal error encountered.\",\"grpc_status\":13}\"\r\n",
      ">\r\n",
      "\r\n",
      "The above exception was the direct cause of the following exception:\r\n",
      "\r\n",
      "Traceback (most recent call last):\r\n",
      "  File \"/home/dlowl/git/mlops-gcp/examples/sklearn-wine-vertex/env/bin/tb-gcp-uploader\", line 8, in <module>\r\n",
      "    sys.exit(run_main())\r\n",
      "  File \"/home/dlowl/git/mlops-gcp/examples/sklearn-wine-vertex/env/lib64/python3.8/site-packages/google/cloud/aiplatform/tensorboard/uploader_main.py\", line 164, in run_main\r\n",
      "    app.run(main, flags_parser=flags_parser)\r\n",
      "  File \"/home/dlowl/git/mlops-gcp/examples/sklearn-wine-vertex/env/lib64/python3.8/site-packages/absl/app.py\", line 303, in run\r\n",
      "    _run_main(main, args)\r\n",
      "  File \"/home/dlowl/git/mlops-gcp/examples/sklearn-wine-vertex/env/lib64/python3.8/site-packages/absl/app.py\", line 251, in _run_main\r\n",
      "    sys.exit(main(argv))\r\n",
      "  File \"/home/dlowl/git/mlops-gcp/examples/sklearn-wine-vertex/env/lib64/python3.8/site-packages/google/cloud/aiplatform/tensorboard/uploader_main.py\", line 103, in main\r\n",
      "    tensorboard = api_client.get_tensorboard(name=FLAGS.tensorboard_resource_name)\r\n",
      "  File \"/home/dlowl/git/mlops-gcp/examples/sklearn-wine-vertex/env/lib64/python3.8/site-packages/google/cloud/aiplatform_v1beta1/services/tensorboard_service/client.py\", line 598, in get_tensorboard\r\n",
      "    response = rpc(request, retry=retry, timeout=timeout, metadata=metadata,)\r\n",
      "  File \"/home/dlowl/git/mlops-gcp/examples/sklearn-wine-vertex/env/lib64/python3.8/site-packages/google/api_core/gapic_v1/method.py\", line 145, in __call__\r\n",
      "    return wrapped_func(*args, **kwargs)\r\n",
      "  File \"/home/dlowl/git/mlops-gcp/examples/sklearn-wine-vertex/env/lib64/python3.8/site-packages/google/api_core/grpc_helpers.py\", line 69, in error_remapped_callable\r\n",
      "    six.raise_from(exceptions.from_grpc_error(exc), exc)\r\n",
      "  File \"<string>\", line 3, in raise_from\r\n",
      "google.api_core.exceptions.InternalServerError: 500 Internal error encountered.\r\n"
     ]
    }
   ],
   "source": [
    "!tb-gcp-uploader --tensorboard_resource_name projects/fuzzylabs/locations/europe-west4/tensorboards/wine-quality-tensorboard --experiment_name=\"$run_name\" --logdir=$log_dir --one_shot"
   ],
   "metadata": {
    "collapsed": false,
    "pycharm": {
     "name": "#%%\n"
    }
   }
  }
 ],
 "metadata": {
  "kernelspec": {
   "name": "python3",
   "language": "python",
   "display_name": "Python 3"
  },
  "language_info": {
   "codemirror_mode": {
    "name": "ipython",
    "version": 2
   },
   "file_extension": ".py",
   "mimetype": "text/x-python",
   "name": "python",
   "nbconvert_exporter": "python",
   "pygments_lexer": "ipython2",
   "version": "2.7.6"
  }
 },
 "nbformat": 4,
 "nbformat_minor": 0
}